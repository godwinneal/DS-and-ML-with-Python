{
 "cells": [
  {
   "cell_type": "code",
   "execution_count": 1,
   "metadata": {},
   "outputs": [],
   "source": [
    "import numpy as np\n"
   ]
  },
  {
   "cell_type": "code",
   "execution_count": 2,
   "metadata": {},
   "outputs": [
    {
     "data": {
      "text/plain": [
       "0.30514832832554084"
      ]
     },
     "execution_count": 2,
     "metadata": {},
     "output_type": "execute_result"
    }
   ],
   "source": [
    "np.random.random()"
   ]
  },
  {
   "cell_type": "code",
   "execution_count": 3,
   "metadata": {},
   "outputs": [
    {
     "data": {
      "text/plain": [
       "0.2751587824544932"
      ]
     },
     "execution_count": 3,
     "metadata": {},
     "output_type": "execute_result"
    }
   ],
   "source": [
    "np.random.random()"
   ]
  },
  {
   "cell_type": "code",
   "execution_count": 4,
   "metadata": {},
   "outputs": [
    {
     "data": {
      "text/plain": [
       "0.7154634343584828"
      ]
     },
     "execution_count": 4,
     "metadata": {},
     "output_type": "execute_result"
    }
   ],
   "source": [
    "np.random.random()"
   ]
  },
  {
   "cell_type": "code",
   "execution_count": 8,
   "metadata": {},
   "outputs": [
    {
     "data": {
      "text/plain": [
       "0.8447761323199037"
      ]
     },
     "execution_count": 8,
     "metadata": {},
     "output_type": "execute_result"
    }
   ],
   "source": [
    "np.random.seed(100)\n",
    ".random.random()\n",
    "np.random.random()\n",
    "np.random.random()\n",
    "np.random.random()"
   ]
  },
  {
   "cell_type": "code",
   "execution_count": 11,
   "metadata": {},
   "outputs": [
    {
     "name": "stdout",
     "output_type": "stream",
     "text": [
      "8\n",
      "8\n",
      "3\n",
      "7\n"
     ]
    }
   ],
   "source": [
    "np.random.seed(100)\n",
    "print(np.random.randint(12))\n",
    "print(np.random.randint(13))\n",
    "print(np.random.randint(14))\n",
    "print(np.random.randint(15))"
   ]
  },
  {
   "cell_type": "code",
   "execution_count": 12,
   "metadata": {},
   "outputs": [
    {
     "data": {
      "text/plain": [
       "array([[0.42451759, 0.84477613, 0.00471886],\n",
       "       [0.12156912, 0.67074908, 0.82585276],\n",
       "       [0.13670659, 0.57509333, 0.89132195]])"
      ]
     },
     "execution_count": 12,
     "metadata": {},
     "output_type": "execute_result"
    }
   ],
   "source": [
    "np.random.random([3,3])"
   ]
  },
  {
   "cell_type": "code",
   "execution_count": 19,
   "metadata": {},
   "outputs": [
    {
     "data": {
      "text/plain": [
       "array([[23, 25, 20, 29, 23],\n",
       "       [26, 23, 24, 27, 26],\n",
       "       [23, 29, 20, 24, 24],\n",
       "       [25, 27, 26, 26, 22]])"
      ]
     },
     "execution_count": 19,
     "metadata": {},
     "output_type": "execute_result"
    }
   ],
   "source": [
    "np.random.randint(low=20,high=30,size=[4,5])"
   ]
  },
  {
   "cell_type": "code",
   "execution_count": 20,
   "metadata": {},
   "outputs": [],
   "source": [
    "a=[12,34,56,78,90,32]"
   ]
  },
  {
   "cell_type": "code",
   "execution_count": 22,
   "metadata": {},
   "outputs": [
    {
     "data": {
      "text/plain": [
       "array([[90, 56, 32, 90, 34],\n",
       "       [56, 56, 12, 56, 56],\n",
       "       [78, 32, 90, 56, 90],\n",
       "       [78, 32, 34, 12, 12]])"
      ]
     },
     "execution_count": 22,
     "metadata": {},
     "output_type": "execute_result"
    }
   ],
   "source": [
    "np.random.choice(a,size=[4,5])"
   ]
  },
  {
   "cell_type": "code",
   "execution_count": 24,
   "metadata": {},
   "outputs": [],
   "source": [
    "a=np.random.random([5,6])"
   ]
  },
  {
   "cell_type": "code",
   "execution_count": 25,
   "metadata": {},
   "outputs": [
    {
     "data": {
      "text/plain": [
       "array([[0.69773491, 0.8596183 , 0.62532376, 0.98240783, 0.97650013,\n",
       "        0.16669413],\n",
       "       [0.02317814, 0.16074455, 0.92349683, 0.95354985, 0.21097842,\n",
       "        0.36052525],\n",
       "       [0.54937526, 0.27183085, 0.46060162, 0.69616156, 0.5003559 ,\n",
       "        0.71607099],\n",
       "       [0.52595594, 0.00139902, 0.39470029, 0.49216697, 0.40288033,\n",
       "        0.3542983 ],\n",
       "       [0.50061432, 0.44517663, 0.09043279, 0.27356292, 0.9434771 ,\n",
       "        0.02654464]])"
      ]
     },
     "execution_count": 25,
     "metadata": {},
     "output_type": "execute_result"
    }
   ],
   "source": [
    "a"
   ]
  },
  {
   "cell_type": "code",
   "execution_count": 26,
   "metadata": {},
   "outputs": [],
   "source": [
    "b=np.round(a,2)"
   ]
  },
  {
   "cell_type": "code",
   "execution_count": 27,
   "metadata": {},
   "outputs": [
    {
     "data": {
      "text/plain": [
       "array([[0.7 , 0.86, 0.63, 0.98, 0.98, 0.17],\n",
       "       [0.02, 0.16, 0.92, 0.95, 0.21, 0.36],\n",
       "       [0.55, 0.27, 0.46, 0.7 , 0.5 , 0.72],\n",
       "       [0.53, 0.  , 0.39, 0.49, 0.4 , 0.35],\n",
       "       [0.5 , 0.45, 0.09, 0.27, 0.94, 0.03]])"
      ]
     },
     "execution_count": 27,
     "metadata": {},
     "output_type": "execute_result"
    }
   ],
   "source": [
    "b"
   ]
  },
  {
   "cell_type": "code",
   "execution_count": 28,
   "metadata": {},
   "outputs": [],
   "source": [
    "c=b.astype(int)"
   ]
  },
  {
   "cell_type": "code",
   "execution_count": 29,
   "metadata": {},
   "outputs": [
    {
     "data": {
      "text/plain": [
       "array([[0, 0, 0, 0, 0, 0],\n",
       "       [0, 0, 0, 0, 0, 0],\n",
       "       [0, 0, 0, 0, 0, 0],\n",
       "       [0, 0, 0, 0, 0, 0],\n",
       "       [0, 0, 0, 0, 0, 0]])"
      ]
     },
     "execution_count": 29,
     "metadata": {},
     "output_type": "execute_result"
    }
   ],
   "source": [
    "c"
   ]
  },
  {
   "cell_type": "code",
   "execution_count": 30,
   "metadata": {},
   "outputs": [],
   "source": [
    "x=np.arange(12)"
   ]
  },
  {
   "cell_type": "code",
   "execution_count": 31,
   "metadata": {},
   "outputs": [
    {
     "data": {
      "text/plain": [
       "array([ 0,  1,  2,  3,  4,  5,  6,  7,  8,  9, 10, 11])"
      ]
     },
     "execution_count": 31,
     "metadata": {},
     "output_type": "execute_result"
    }
   ],
   "source": [
    "x"
   ]
  },
  {
   "cell_type": "code",
   "execution_count": 32,
   "metadata": {},
   "outputs": [
    {
     "data": {
      "text/plain": [
       "(12,)"
      ]
     },
     "execution_count": 32,
     "metadata": {},
     "output_type": "execute_result"
    }
   ],
   "source": [
    "x.shape"
   ]
  },
  {
   "cell_type": "code",
   "execution_count": 33,
   "metadata": {},
   "outputs": [
    {
     "data": {
      "text/plain": [
       "array([[ 0,  1],\n",
       "       [ 2,  3],\n",
       "       [ 4,  5],\n",
       "       [ 6,  7],\n",
       "       [ 8,  9],\n",
       "       [10, 11]])"
      ]
     },
     "execution_count": 33,
     "metadata": {},
     "output_type": "execute_result"
    }
   ],
   "source": [
    "x.reshape(6,2)"
   ]
  },
  {
   "cell_type": "code",
   "execution_count": 34,
   "metadata": {},
   "outputs": [
    {
     "ename": "ValueError",
     "evalue": "cannot reshape array of size 12 into shape (5,4)",
     "output_type": "error",
     "traceback": [
      "\u001b[1;31m---------------------------------------------------------------------------\u001b[0m",
      "\u001b[1;31mValueError\u001b[0m                                Traceback (most recent call last)",
      "\u001b[1;32m<ipython-input-34-d35da4b65b49>\u001b[0m in \u001b[0;36m<module>\u001b[1;34m\u001b[0m\n\u001b[1;32m----> 1\u001b[1;33m \u001b[0mx\u001b[0m\u001b[1;33m.\u001b[0m\u001b[0mreshape\u001b[0m\u001b[1;33m(\u001b[0m\u001b[1;36m5\u001b[0m\u001b[1;33m,\u001b[0m\u001b[1;36m4\u001b[0m\u001b[1;33m)\u001b[0m\u001b[1;33m\u001b[0m\u001b[1;33m\u001b[0m\u001b[0m\n\u001b[0m",
      "\u001b[1;31mValueError\u001b[0m: cannot reshape array of size 12 into shape (5,4)"
     ]
    }
   ],
   "source": [
    "x.reshape(5,4)"
   ]
  },
  {
   "cell_type": "code",
   "execution_count": 51,
   "metadata": {},
   "outputs": [],
   "source": [
    "y=np.random.random([4,5,6])"
   ]
  },
  {
   "cell_type": "code",
   "execution_count": 52,
   "metadata": {},
   "outputs": [
    {
     "data": {
      "text/plain": [
       "array([[[5.54476808e-01, 6.47167332e-01, 1.85474159e-01, 2.71978204e-01,\n",
       "         1.48438658e-01, 3.03041706e-02],\n",
       "        [9.39255584e-01, 3.46754130e-01, 1.09564604e-01, 3.78326996e-01,\n",
       "         3.84079459e-01, 6.65423688e-01],\n",
       "        [2.44490929e-01, 6.61480974e-01, 9.84928838e-02, 5.80862748e-01,\n",
       "         1.06865505e-01, 5.48254507e-01],\n",
       "        [5.19751708e-01, 2.96234118e-01, 4.55729051e-01, 3.86665201e-02,\n",
       "         5.99003025e-01, 4.86759475e-04],\n",
       "        [5.01813594e-01, 5.01726122e-01, 6.06696959e-02, 9.49836939e-01,\n",
       "         6.08659045e-01, 6.72002684e-01]],\n",
       "\n",
       "       [[4.62773524e-01, 7.04273095e-01, 1.81067141e-01, 6.47582177e-01,\n",
       "         5.68108735e-01, 9.54138315e-01],\n",
       "        [7.96690239e-01, 5.85310393e-01, 4.55354967e-01, 7.38451531e-01,\n",
       "         8.12236278e-01, 9.27291174e-01],\n",
       "        [8.26375607e-01, 2.99565977e-02, 7.72802822e-01, 5.21777394e-01,\n",
       "         8.85387332e-01, 4.58561667e-01],\n",
       "        [5.40722576e-01, 9.07764998e-01, 5.56310040e-01, 1.87114722e-01,\n",
       "         6.81111368e-01, 1.38466854e-02],\n",
       "        [3.80091658e-01, 8.08684490e-01, 5.76125412e-01, 1.51784505e-01,\n",
       "         3.29854760e-01, 9.51773146e-01]],\n",
       "\n",
       "       [[3.03847230e-02, 7.78173527e-01, 1.81383860e-01, 2.13656868e-01,\n",
       "         6.52596223e-01, 1.44091946e-01],\n",
       "        [3.81007271e-01, 4.05734533e-01, 6.58965435e-01, 5.11822674e-01,\n",
       "         4.82585104e-01, 5.24021798e-01],\n",
       "        [8.06285873e-01, 8.04391081e-01, 1.47700436e-01, 9.93453577e-01,\n",
       "         6.77677358e-02, 9.95815807e-01],\n",
       "        [1.23449693e-01, 6.19291979e-02, 7.04035442e-01, 9.60979653e-01,\n",
       "         7.12150948e-01, 6.63081322e-01],\n",
       "        [1.33674962e-01, 1.80345169e-01, 1.56715869e-01, 9.04734813e-02,\n",
       "         9.71866148e-01, 5.09861130e-01]],\n",
       "\n",
       "       [[4.50877476e-01, 3.29700978e-01, 4.93512042e-01, 1.43600985e-01,\n",
       "         1.50920291e-01, 8.15338579e-01],\n",
       "        [2.11281884e-01, 8.65423224e-02, 3.87257418e-01, 8.93403414e-01,\n",
       "         4.28643298e-01, 7.66304012e-01],\n",
       "        [9.95265402e-01, 2.00628509e-02, 1.08198229e-01, 6.94742671e-01,\n",
       "         8.90664050e-01, 4.92476324e-01],\n",
       "        [7.02679904e-02, 8.84373643e-02, 1.06208159e-01, 2.01258878e-01,\n",
       "         8.77364005e-01, 9.43222502e-01],\n",
       "        [1.35636138e-01, 8.58726973e-01, 7.57158282e-01, 6.86171614e-01,\n",
       "         8.56393390e-01, 2.30877753e-01]]])"
      ]
     },
     "execution_count": 52,
     "metadata": {},
     "output_type": "execute_result"
    }
   ],
   "source": [
    "y"
   ]
  },
  {
   "cell_type": "code",
   "execution_count": 39,
   "metadata": {},
   "outputs": [],
   "source": [
    "z=y.reshape(-1)"
   ]
  },
  {
   "cell_type": "code",
   "execution_count": 40,
   "metadata": {},
   "outputs": [
    {
     "data": {
      "text/plain": [
       "array([0.84960733, 0.25446654, 0.87755554, 0.43513019, 0.72949434,\n",
       "       0.41264077, 0.19083605, 0.70601952, 0.24063282, 0.85132443,\n",
       "       0.82410229, 0.52521179, 0.38634079, 0.59088079, 0.13752361,\n",
       "       0.80827041, 0.96582582, 0.7797958 , 0.23933508, 0.86726041,\n",
       "       0.80811501, 0.06368112, 0.2312283 , 0.58968545, 0.13748695,\n",
       "       0.6784407 , 0.99219069, 0.28575198, 0.76091276, 0.04652717,\n",
       "       0.33253591, 0.94455279, 0.63651704, 0.60184861, 0.92818468,\n",
       "       0.18167941, 0.01782318, 0.19007218, 0.5218718 , 0.49582199,\n",
       "       0.80049121, 0.85943631, 0.21295603, 0.43726884, 0.42161751,\n",
       "       0.05471738, 0.00993369, 0.78976568, 0.27531322, 0.71774   ,\n",
       "       0.42135592, 0.14333587, 0.19252168, 0.31381523, 0.80517017,\n",
       "       0.01262583, 0.04910597, 0.56600038, 0.6868107 , 0.72681091,\n",
       "       0.47969376, 0.36765672, 0.8399701 , 0.45416355, 0.32136584,\n",
       "       0.09271987, 0.06043793, 0.09095117, 0.68270646, 0.68073577,\n",
       "       0.24317417, 0.64046144, 0.06913918, 0.87291996, 0.10960695,\n",
       "       0.16905577, 0.46737799, 0.77594922, 0.85444452, 0.21038644,\n",
       "       0.07664187, 0.7889148 , 0.5475    , 0.78625486, 0.92004704,\n",
       "       0.48097277, 0.45955367, 0.59897916, 0.59931878, 0.50437345,\n",
       "       0.30687853, 0.54135298, 0.92492694, 0.9705508 , 0.39579461,\n",
       "       0.79874527, 0.63508815, 0.22996917, 0.05120709, 0.02846381,\n",
       "       0.12284775, 0.22021252, 0.82902275, 0.28549183, 0.78106408,\n",
       "       0.50466581, 0.13844892, 0.77803655, 0.92133179, 0.94301863,\n",
       "       0.7044358 , 0.69391645, 0.54655181, 0.36921723, 0.98246757,\n",
       "       0.06560923, 0.89767831, 0.26393099, 0.57447584, 0.51286627])"
      ]
     },
     "execution_count": 40,
     "metadata": {},
     "output_type": "execute_result"
    }
   ],
   "source": [
    "z"
   ]
  },
  {
   "cell_type": "code",
   "execution_count": 41,
   "metadata": {},
   "outputs": [
    {
     "data": {
      "text/plain": [
       "(120,)"
      ]
     },
     "execution_count": 41,
     "metadata": {},
     "output_type": "execute_result"
    }
   ],
   "source": [
    "z.shape"
   ]
  },
  {
   "cell_type": "code",
   "execution_count": 42,
   "metadata": {},
   "outputs": [],
   "source": [
    "a=np.arange(5)"
   ]
  },
  {
   "cell_type": "code",
   "execution_count": 43,
   "metadata": {},
   "outputs": [
    {
     "data": {
      "text/plain": [
       "array([0, 1, 2, 3, 4])"
      ]
     },
     "execution_count": 43,
     "metadata": {},
     "output_type": "execute_result"
    }
   ],
   "source": [
    "a"
   ]
  },
  {
   "cell_type": "code",
   "execution_count": 44,
   "metadata": {},
   "outputs": [
    {
     "data": {
      "text/plain": [
       "array([ 0.        ,  0.84147098,  0.90929743,  0.14112001, -0.7568025 ])"
      ]
     },
     "execution_count": 44,
     "metadata": {},
     "output_type": "execute_result"
    }
   ],
   "source": [
    "np.sin(a)"
   ]
  },
  {
   "cell_type": "code",
   "execution_count": 45,
   "metadata": {},
   "outputs": [
    {
     "data": {
      "text/plain": [
       "array([ 1.        ,  0.54030231, -0.41614684, -0.9899925 , -0.65364362])"
      ]
     },
     "execution_count": 45,
     "metadata": {},
     "output_type": "execute_result"
    }
   ],
   "source": [
    "np.cos(a)"
   ]
  },
  {
   "cell_type": "code",
   "execution_count": 46,
   "metadata": {},
   "outputs": [
    {
     "data": {
      "text/plain": [
       "array([ 0.        ,  1.55740772, -2.18503986, -0.14254654,  1.15782128])"
      ]
     },
     "execution_count": 46,
     "metadata": {},
     "output_type": "execute_result"
    }
   ],
   "source": [
    "np.tan(a)"
   ]
  },
  {
   "cell_type": "code",
   "execution_count": 47,
   "metadata": {},
   "outputs": [
    {
     "data": {
      "text/plain": [
       "array([ 1.        ,  2.71828183,  7.3890561 , 20.08553692, 54.59815003])"
      ]
     },
     "execution_count": 47,
     "metadata": {},
     "output_type": "execute_result"
    }
   ],
   "source": [
    "np.exp(a)"
   ]
  },
  {
   "cell_type": "code",
   "execution_count": 48,
   "metadata": {},
   "outputs": [
    {
     "data": {
      "text/plain": [
       "10"
      ]
     },
     "execution_count": 48,
     "metadata": {},
     "output_type": "execute_result"
    }
   ],
   "source": [
    "a.sum()"
   ]
  },
  {
   "cell_type": "code",
   "execution_count": 50,
   "metadata": {},
   "outputs": [
    {
     "data": {
      "text/plain": [
       "10"
      ]
     },
     "execution_count": 50,
     "metadata": {},
     "output_type": "execute_result"
    }
   ],
   "source": [
    "np.sum(a)"
   ]
  },
  {
   "cell_type": "code",
   "execution_count": 53,
   "metadata": {},
   "outputs": [
    {
     "data": {
      "text/plain": [
       "array([[[5.54476808e-01, 6.47167332e-01, 1.85474159e-01, 2.71978204e-01,\n",
       "         1.48438658e-01, 3.03041706e-02],\n",
       "        [9.39255584e-01, 3.46754130e-01, 1.09564604e-01, 3.78326996e-01,\n",
       "         3.84079459e-01, 6.65423688e-01],\n",
       "        [2.44490929e-01, 6.61480974e-01, 9.84928838e-02, 5.80862748e-01,\n",
       "         1.06865505e-01, 5.48254507e-01],\n",
       "        [5.19751708e-01, 2.96234118e-01, 4.55729051e-01, 3.86665201e-02,\n",
       "         5.99003025e-01, 4.86759475e-04],\n",
       "        [5.01813594e-01, 5.01726122e-01, 6.06696959e-02, 9.49836939e-01,\n",
       "         6.08659045e-01, 6.72002684e-01]],\n",
       "\n",
       "       [[4.62773524e-01, 7.04273095e-01, 1.81067141e-01, 6.47582177e-01,\n",
       "         5.68108735e-01, 9.54138315e-01],\n",
       "        [7.96690239e-01, 5.85310393e-01, 4.55354967e-01, 7.38451531e-01,\n",
       "         8.12236278e-01, 9.27291174e-01],\n",
       "        [8.26375607e-01, 2.99565977e-02, 7.72802822e-01, 5.21777394e-01,\n",
       "         8.85387332e-01, 4.58561667e-01],\n",
       "        [5.40722576e-01, 9.07764998e-01, 5.56310040e-01, 1.87114722e-01,\n",
       "         6.81111368e-01, 1.38466854e-02],\n",
       "        [3.80091658e-01, 8.08684490e-01, 5.76125412e-01, 1.51784505e-01,\n",
       "         3.29854760e-01, 9.51773146e-01]],\n",
       "\n",
       "       [[3.03847230e-02, 7.78173527e-01, 1.81383860e-01, 2.13656868e-01,\n",
       "         6.52596223e-01, 1.44091946e-01],\n",
       "        [3.81007271e-01, 4.05734533e-01, 6.58965435e-01, 5.11822674e-01,\n",
       "         4.82585104e-01, 5.24021798e-01],\n",
       "        [8.06285873e-01, 8.04391081e-01, 1.47700436e-01, 9.93453577e-01,\n",
       "         6.77677358e-02, 9.95815807e-01],\n",
       "        [1.23449693e-01, 6.19291979e-02, 7.04035442e-01, 9.60979653e-01,\n",
       "         7.12150948e-01, 6.63081322e-01],\n",
       "        [1.33674962e-01, 1.80345169e-01, 1.56715869e-01, 9.04734813e-02,\n",
       "         9.71866148e-01, 5.09861130e-01]],\n",
       "\n",
       "       [[4.50877476e-01, 3.29700978e-01, 4.93512042e-01, 1.43600985e-01,\n",
       "         1.50920291e-01, 8.15338579e-01],\n",
       "        [2.11281884e-01, 8.65423224e-02, 3.87257418e-01, 8.93403414e-01,\n",
       "         4.28643298e-01, 7.66304012e-01],\n",
       "        [9.95265402e-01, 2.00628509e-02, 1.08198229e-01, 6.94742671e-01,\n",
       "         8.90664050e-01, 4.92476324e-01],\n",
       "        [7.02679904e-02, 8.84373643e-02, 1.06208159e-01, 2.01258878e-01,\n",
       "         8.77364005e-01, 9.43222502e-01],\n",
       "        [1.35636138e-01, 8.58726973e-01, 7.57158282e-01, 6.86171614e-01,\n",
       "         8.56393390e-01, 2.30877753e-01]]])"
      ]
     },
     "execution_count": 53,
     "metadata": {},
     "output_type": "execute_result"
    }
   ],
   "source": [
    "y"
   ]
  },
  {
   "cell_type": "code",
   "execution_count": 54,
   "metadata": {},
   "outputs": [],
   "source": [
    "q=y.T"
   ]
  },
  {
   "cell_type": "code",
   "execution_count": 55,
   "metadata": {},
   "outputs": [
    {
     "data": {
      "text/plain": [
       "array([[[5.54476808e-01, 4.62773524e-01, 3.03847230e-02, 4.50877476e-01],\n",
       "        [9.39255584e-01, 7.96690239e-01, 3.81007271e-01, 2.11281884e-01],\n",
       "        [2.44490929e-01, 8.26375607e-01, 8.06285873e-01, 9.95265402e-01],\n",
       "        [5.19751708e-01, 5.40722576e-01, 1.23449693e-01, 7.02679904e-02],\n",
       "        [5.01813594e-01, 3.80091658e-01, 1.33674962e-01, 1.35636138e-01]],\n",
       "\n",
       "       [[6.47167332e-01, 7.04273095e-01, 7.78173527e-01, 3.29700978e-01],\n",
       "        [3.46754130e-01, 5.85310393e-01, 4.05734533e-01, 8.65423224e-02],\n",
       "        [6.61480974e-01, 2.99565977e-02, 8.04391081e-01, 2.00628509e-02],\n",
       "        [2.96234118e-01, 9.07764998e-01, 6.19291979e-02, 8.84373643e-02],\n",
       "        [5.01726122e-01, 8.08684490e-01, 1.80345169e-01, 8.58726973e-01]],\n",
       "\n",
       "       [[1.85474159e-01, 1.81067141e-01, 1.81383860e-01, 4.93512042e-01],\n",
       "        [1.09564604e-01, 4.55354967e-01, 6.58965435e-01, 3.87257418e-01],\n",
       "        [9.84928838e-02, 7.72802822e-01, 1.47700436e-01, 1.08198229e-01],\n",
       "        [4.55729051e-01, 5.56310040e-01, 7.04035442e-01, 1.06208159e-01],\n",
       "        [6.06696959e-02, 5.76125412e-01, 1.56715869e-01, 7.57158282e-01]],\n",
       "\n",
       "       [[2.71978204e-01, 6.47582177e-01, 2.13656868e-01, 1.43600985e-01],\n",
       "        [3.78326996e-01, 7.38451531e-01, 5.11822674e-01, 8.93403414e-01],\n",
       "        [5.80862748e-01, 5.21777394e-01, 9.93453577e-01, 6.94742671e-01],\n",
       "        [3.86665201e-02, 1.87114722e-01, 9.60979653e-01, 2.01258878e-01],\n",
       "        [9.49836939e-01, 1.51784505e-01, 9.04734813e-02, 6.86171614e-01]],\n",
       "\n",
       "       [[1.48438658e-01, 5.68108735e-01, 6.52596223e-01, 1.50920291e-01],\n",
       "        [3.84079459e-01, 8.12236278e-01, 4.82585104e-01, 4.28643298e-01],\n",
       "        [1.06865505e-01, 8.85387332e-01, 6.77677358e-02, 8.90664050e-01],\n",
       "        [5.99003025e-01, 6.81111368e-01, 7.12150948e-01, 8.77364005e-01],\n",
       "        [6.08659045e-01, 3.29854760e-01, 9.71866148e-01, 8.56393390e-01]],\n",
       "\n",
       "       [[3.03041706e-02, 9.54138315e-01, 1.44091946e-01, 8.15338579e-01],\n",
       "        [6.65423688e-01, 9.27291174e-01, 5.24021798e-01, 7.66304012e-01],\n",
       "        [5.48254507e-01, 4.58561667e-01, 9.95815807e-01, 4.92476324e-01],\n",
       "        [4.86759475e-04, 1.38466854e-02, 6.63081322e-01, 9.43222502e-01],\n",
       "        [6.72002684e-01, 9.51773146e-01, 5.09861130e-01, 2.30877753e-01]]])"
      ]
     },
     "execution_count": 55,
     "metadata": {},
     "output_type": "execute_result"
    }
   ],
   "source": [
    "q"
   ]
  },
  {
   "cell_type": "code",
   "execution_count": 59,
   "metadata": {},
   "outputs": [],
   "source": [
    "z=np.arange(6)"
   ]
  },
  {
   "cell_type": "code",
   "execution_count": 70,
   "metadata": {},
   "outputs": [
    {
     "data": {
      "text/plain": [
       "5"
      ]
     },
     "execution_count": 70,
     "metadata": {},
     "output_type": "execute_result"
    }
   ],
   "source": [
    "z.argmax()"
   ]
  },
  {
   "cell_type": "code",
   "execution_count": 62,
   "metadata": {},
   "outputs": [],
   "source": [
    "o=z.reshape(3,2)"
   ]
  },
  {
   "cell_type": "code",
   "execution_count": 63,
   "metadata": {},
   "outputs": [
    {
     "data": {
      "text/plain": [
       "array([[0, 1],\n",
       "       [2, 3],\n",
       "       [4, 5]])"
      ]
     },
     "execution_count": 63,
     "metadata": {},
     "output_type": "execute_result"
    }
   ],
   "source": [
    "o"
   ]
  },
  {
   "cell_type": "code",
   "execution_count": 64,
   "metadata": {},
   "outputs": [],
   "source": [
    "m=np.random.random([2,3])"
   ]
  },
  {
   "cell_type": "code",
   "execution_count": 65,
   "metadata": {},
   "outputs": [
    {
     "data": {
      "text/plain": [
       "array([[0.51933798, 0.34333345, 0.65877293],\n",
       "       [0.28279025, 0.50246643, 0.30327752]])"
      ]
     },
     "execution_count": 65,
     "metadata": {},
     "output_type": "execute_result"
    }
   ],
   "source": [
    "m"
   ]
  },
  {
   "cell_type": "code",
   "execution_count": 66,
   "metadata": {},
   "outputs": [
    {
     "data": {
      "text/plain": [
       "array([[0.28279025, 0.50246643, 0.30327752],\n",
       "       [1.88704672, 2.19406619, 2.22737842],\n",
       "       [3.49130319, 3.88566595, 4.15147932]])"
      ]
     },
     "execution_count": 66,
     "metadata": {},
     "output_type": "execute_result"
    }
   ],
   "source": [
    "np.dot(o,m)"
   ]
  },
  {
   "cell_type": "code",
   "execution_count": null,
   "metadata": {},
   "outputs": [],
   "source": []
  }
 ],
 "metadata": {
  "kernelspec": {
   "display_name": "Python 3",
   "language": "python",
   "name": "python3"
  },
  "language_info": {
   "codemirror_mode": {
    "name": "ipython",
    "version": 3
   },
   "file_extension": ".py",
   "mimetype": "text/x-python",
   "name": "python",
   "nbconvert_exporter": "python",
   "pygments_lexer": "ipython3",
   "version": "3.7.6"
  }
 },
 "nbformat": 4,
 "nbformat_minor": 4
}
